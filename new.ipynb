{
 "cells": [
  {
   "cell_type": "code",
   "execution_count": 2,
   "metadata": {},
   "outputs": [
    {
     "name": "stdout",
     "output_type": "stream",
     "text": [
      "0.5\n"
     ]
    }
   ],
   "source": [
    "my_income=100\n",
    "my_taxes=50\n",
    "taxes_rate=my_taxes/my_income\n",
    "print(taxes_rate )"
   ]
  },
  {
   "cell_type": "code",
   "execution_count": 1,
   "metadata": {},
   "outputs": [
    {
     "name": "stdout",
     "output_type": "stream",
     "text": [
      "* * * * * \n",
      "* * * * * \n",
      "* * * * * \n",
      "* * * * * \n",
      "* * * * * \n",
      "* * * * * * * * * * * * * * * * * * * * * * * * * * * * * * * * * * * * \n",
      "* * * * * * * * * * * * * * * * * * * * * * * * * * * * * * * * * * * \n",
      "* * * * * * * * * * * * * * * * * * * * * * * * * * * * * * * * * \n",
      "* * * * * * * * * * * * * * * * * * * * * * * * * * * * * * \n",
      "* * * * * * * * * * * * * * * * * * * * * * * * * * \n",
      "* * * * * * * * * * * * * * * * * * * * * \n",
      "* * * * * * * * * * * * * * * \n",
      "* * * * * * * * \n",
      "\n",
      "* * * * * * * * * * * \n",
      "* * * * * * * * * * * \n",
      "* * * * * * * * * * * \n",
      "* * * * * * * * * * * \n",
      "* * * * * * * * * * * \n",
      "* * * * * * * * * * * \n",
      "* * * * * * * * * * * \n",
      "* * * * * * * * * * * \n",
      "* * * * * * * * * * * \n",
      "* * * * * * * * * * * \n"
     ]
    }
   ],
   "source": [
    "n=(1)\n",
    "m=(6)\n",
    "for i in range(n,m):\n",
    "    for j in range(n,m):\n",
    "       print(\"*\", end =\" \")\n",
    "    print() \n",
    "\n",
    "n=(9)\n",
    "for i in range(n):\n",
    "    for j in range(n-i-1):\n",
    "      for k in range(n-j-1):\n",
    "         print(\"*\", end =\" \")\n",
    "    print()  \n",
    "\n",
    "n=(10)\n",
    "for i in range(n):\n",
    "    for j in range(n+1):\n",
    "        print(\"*\", end =\" \")\n",
    "    print()     "
   ]
  },
  {
   "cell_type": "code",
   "execution_count": null,
   "metadata": {},
   "outputs": [],
   "source": []
  },
  {
   "cell_type": "code",
   "execution_count": 34,
   "metadata": {},
   "outputs": [
    {
     "name": "stdout",
     "output_type": "stream",
     "text": [
      "0\n",
      "1\n",
      "2\n"
     ]
    }
   ],
   "source": [
    "mylist=[\"mohamed\",\"nabi\",\"gokul\"]\n",
    "for x in range(len(mylist)):\n",
    "    print(x)"
   ]
  },
  {
   "cell_type": "code",
   "execution_count": 36,
   "metadata": {},
   "outputs": [
    {
     "name": "stdout",
     "output_type": "stream",
     "text": [
      "mohamed\n",
      "nabi\n",
      "gokul\n"
     ]
    }
   ],
   "source": [
    "mylist=[\"mohamed\",\"nabi\",\"gokul\"]\n",
    "i=0\n",
    "while i<len(mylist):\n",
    "    print(mylist[i])\n",
    "    i=i+1"
   ]
  },
  {
   "cell_type": "code",
   "execution_count": 38,
   "metadata": {},
   "outputs": [
    {
     "name": "stdout",
     "output_type": "stream",
     "text": [
      "['apple', 'banana', 'mango']\n"
     ]
    }
   ],
   "source": [
    "fruits=[\"apple\",\"banana\",\"mango\",\"cherry\",\"cheese\"]\n",
    "newlist=[]\n",
    "for x in fruits:\n",
    "    if \"a\" in x :\n",
    "        newlist.append(x)\n",
    "print(newlist)"
   ]
  },
  {
   "cell_type": "code",
   "execution_count": 8,
   "metadata": {},
   "outputs": [
    {
     "name": "stdout",
     "output_type": "stream",
     "text": [
      "[1, 2, 3, 4, 5, 6, 7, 8, 9, 10, 11]\n"
     ]
    }
   ],
   "source": [
    "my_list=[1,2,3,4,5,6]\n",
    "anotherlist=[7,8,9,10,11]\n",
    "newlist= my_list + anotherlist\n",
    "print(newlist)"
   ]
  },
  {
   "cell_type": "code",
   "execution_count": 26,
   "metadata": {},
   "outputs": [
    {
     "name": "stdout",
     "output_type": "stream",
     "text": [
      "1\n",
      "2\n",
      "3\n",
      "4\n",
      "5\n",
      "6\n"
     ]
    }
   ],
   "source": [
    "mynumber=[1,2,3,4,5,6]\n",
    "i=0\n",
    "while i <len(mynumber):\n",
    "    print(mynumber[i])\n",
    "    i=i+1"
   ]
  },
  {
   "cell_type": "code",
   "execution_count": 28,
   "metadata": {},
   "outputs": [
    {
     "name": "stdout",
     "output_type": "stream",
     "text": [
      "['banana']\n"
     ]
    }
   ],
   "source": [
    "fruits = [\"apple\", \"banana\", \"cherry\", \"kiwi\", \"mango\"]\n",
    "newlist = []\n",
    "\n",
    "for x in fruits:\n",
    "  if \"b\" in x:\n",
    "    newlist.append(x)\n",
    "\n",
    "print(newlist)"
   ]
  },
  {
   "cell_type": "code",
   "execution_count": 3,
   "metadata": {},
   "outputs": [
    {
     "data": {
      "text/plain": [
       "dict_values(['2.99', '2.99', '2.99'])"
      ]
     },
     "execution_count": 3,
     "metadata": {},
     "output_type": "execute_result"
    }
   ],
   "source": [
    "mydict={'apple':'2.99','banana':'2.99','cherry':'2.99'}\n",
    "mydict.values()"
   ]
  },
  {
   "cell_type": "code",
   "execution_count": 7,
   "metadata": {},
   "outputs": [
    {
     "name": "stdout",
     "output_type": "stream",
     "text": [
      "Overwriting myfile.txt\n"
     ]
    }
   ],
   "source": [
    "%%writefile myfile.txt\n",
    "hello this mohamed nabil\n",
    "this is seconf line \n",
    "this is third line\n",
    "writing myfile.txt \n",
    "pwd\n",
    "\n",
    "myfile = open('myfile.txt')\n",
    "myfile.read()"
   ]
  },
  {
   "cell_type": "code",
   "execution_count": 21,
   "metadata": {},
   "outputs": [
    {
     "name": "stdout",
     "output_type": "stream",
     "text": [
      "false\n"
     ]
    }
   ],
   "source": [
    "hungry =False\n",
    "if hungry:\n",
    "    print(\"true\")\n",
    "else:\n",
    "    print(\"false\")"
   ]
  },
  {
   "cell_type": "code",
   "execution_count": 30,
   "metadata": {},
   "outputs": [
    {
     "name": "stdout",
     "output_type": "stream",
     "text": [
      "your are not in bank\n"
     ]
    }
   ],
   "source": [
    "location='autoshop'\n",
    "\n",
    "if location == 'autoshop' and 'bank':\n",
    "    print(\"your are not in bank\")\n",
    "else:\n",
    "    print(\"you are in bank\")"
   ]
  },
  {
   "cell_type": "code",
   "execution_count": 37,
   "metadata": {},
   "outputs": [
    {
     "name": "stdout",
     "output_type": "stream",
     "text": [
      "what is your name?\n"
     ]
    }
   ],
   "source": [
    "name=(\"mohamed\",\"gokul\")\n",
    "if name == \"mohamed\":\n",
    "    print(\"hello mohamed\")\n",
    "elif name  == \"gokul\" :\n",
    "    print(\"hello gokul\")\n",
    "else:\n",
    "    print(\"what is your name?\")\n"
   ]
  },
  {
   "cell_type": "code",
   "execution_count": 5,
   "metadata": {},
   "outputs": [
    {
     "name": "stdout",
     "output_type": "stream",
     "text": [
      "sum of 20 and 45 is 65\n",
      "sum of two numbers is 170\n"
     ]
    }
   ],
   "source": [
    "num1=20\n",
    "num2=45\n",
    "sum=num1+num2\n",
    "print(f\"sum of 20 and 45 is {sum}\")\n",
    "\n",
    "def add(a,b):\n",
    "    return a+b\n",
    "num1=80\n",
    "num2=90\n",
    "sum_of_two_numbers=add(num1,num2)\n",
    "print(f\"sum of two numbers is {sum_of_two_numbers}\")\n"
   ]
  },
  {
   "cell_type": "code",
   "execution_count": 21,
   "metadata": {},
   "outputs": [
    {
     "name": "stdout",
     "output_type": "stream",
     "text": [
      "odd number 1\n",
      "2\n",
      "odd number 3\n",
      "4\n",
      "odd number 5\n",
      "6\n",
      "odd number 7\n",
      "8\n",
      "odd number 9\n",
      "10\n",
      "odd number 11\n",
      "1\n",
      "3\n",
      "6\n",
      "10\n",
      "15\n",
      "21\n",
      "28\n",
      "36\n",
      "45\n",
      "55\n",
      "66\n"
     ]
    }
   ],
   "source": [
    "mylist=[1,2,3,4,5,6,7,8,9,10,11]\n",
    "for num in mylist:\n",
    "    if num % 2 == 0:\n",
    "        print(num)\n",
    "    else:\n",
    "        print(f'odd number {num}')\n",
    "\n",
    "\n",
    "\n",
    "list_sum=0\n",
    "for sum in mylist:\n",
    "    list_sum =list_sum + sum\n",
    "    print(list_sum)"
   ]
  },
  {
   "cell_type": "code",
   "execution_count": 2,
   "metadata": {},
   "outputs": [
    {
     "ename": "Terminator",
     "evalue": "",
     "output_type": "error",
     "traceback": [
      "\u001b[1;31m---------------------------------------------------------------------------\u001b[0m",
      "\u001b[1;31mTerminator\u001b[0m                                Traceback (most recent call last)",
      "Cell \u001b[1;32mIn[2], line 3\u001b[0m\n\u001b[0;32m      1\u001b[0m \u001b[38;5;28;01mfrom\u001b[39;00m\u001b[38;5;250m \u001b[39m\u001b[38;5;21;01mturtle\u001b[39;00m\u001b[38;5;250m \u001b[39m\u001b[38;5;28;01mimport\u001b[39;00m \u001b[38;5;241m*\u001b[39m\n\u001b[1;32m----> 3\u001b[0m \u001b[43mright\u001b[49m\u001b[43m(\u001b[49m\u001b[38;5;241;43m90\u001b[39;49m\u001b[43m)\u001b[49m\n\u001b[0;32m      4\u001b[0m pos \u001b[38;5;241m=\u001b[39m [(\u001b[38;5;241m-\u001b[39m\u001b[38;5;241m40\u001b[39m, \u001b[38;5;241m0\u001b[39m), (\u001b[38;5;241m40\u001b[39m, \u001b[38;5;241m0\u001b[39m)]\n\u001b[0;32m      6\u001b[0m \u001b[38;5;28;01mfor\u001b[39;00m x, y,\u001b[38;5;129;01min\u001b[39;00m pos:\n",
      "File \u001b[1;32m<string>:5\u001b[0m, in \u001b[0;36mright\u001b[1;34m(angle)\u001b[0m\n",
      "\u001b[1;31mTerminator\u001b[0m: "
     ]
    }
   ],
   "source": [
    "from turtle import *\n",
    "\n",
    "right(90)\n",
    "pos = [(-40, 0), (40, 0)]\n",
    "\n",
    "for x, y,in pos:\n",
    "    up()\n",
    "    goto(x, y)\n",
    "    down()\n",
    "# its the left n \n",
    "fillcolor('red')\n",
    "begin_fill()\n",
    "for i in range(2):       \n",
    "    forward(200)\n",
    "    left(90)\n",
    "    forward(40)      \n",
    "    left(90)\n",
    "end_fill()\n",
    "\n",
    "\n",
    "up()\n",
    "goto(-40, 0)\n",
    "down()\n",
    "left(22)\n",
    "begin_fill()\n",
    "for i in range(2):\n",
    "    forward(217)\n",
    "    left(68)\n",
    "    forward(40)\n",
    "    left(112)\n",
    "end_fill()\n",
    "\n",
    "fillcolor('red')\n",
    "begin_fill()\n",
    "for k in range(2):\n",
    "    forward(20)\n",
    "    right(90)\n",
    "    forward(40)\n",
    "    right(90)\n",
    "end_fill()\n",
    "\n",
    "done()\n"
   ]
  },
  {
   "cell_type": "code",
   "execution_count": 22,
   "metadata": {},
   "outputs": [
    {
     "name": "stdout",
     "output_type": "stream",
     "text": [
      "\n",
      "*\n",
      "**\n",
      "***\n",
      "this is string pallindrome\n",
      "demahom liban\n"
     ]
    }
   ],
   "source": [
    "for  i in range(1,5):\n",
    "    for j in range(i-1):\n",
    "        print('*', end=\"\")\n",
    "    print()\n",
    "\n",
    "string=\"racecar\"\n",
    "if string==string[::-1]:\n",
    "    print(\"this is string pallindrome\")\n",
    "else:\n",
    "    print(\"not a palindrome\")\n",
    "\n",
    "string=\"nabil mohamed\"\n",
    "reversed_string=string[::-1]\n",
    "print(reversed_string)"
   ]
  },
  {
   "cell_type": "code",
   "execution_count": 30,
   "metadata": {},
   "outputs": [
    {
     "name": "stdout",
     "output_type": "stream",
     "text": [
      "this is string pallindrome\n"
     ]
    }
   ],
   "source": [
    "string=\"racecar\"\n",
    "\n",
    "if string==string[::-1]: \n",
    "    print(\"this is string pallindrome\")\n",
    "\n",
    "else:\n",
    "    print(\"not a palindrome\")"
   ]
  },
  {
   "cell_type": "code",
   "execution_count": 35,
   "metadata": {},
   "outputs": [
    {
     "name": "stdout",
     "output_type": "stream",
     "text": [
      "you are not eligible to vote\n"
     ]
    }
   ],
   "source": [
    "age=int(input(\"enter your age:\"))\n",
    "\n",
    "if age>=18:\n",
    "    print(\"you are eligible to vote\")\n",
    "else:\n",
    "    print(\"you are not eligible to vote\")"
   ]
  },
  {
   "cell_type": "code",
   "execution_count": null,
   "metadata": {},
   "outputs": [],
   "source": []
  }
 ],
 "metadata": {
  "kernelspec": {
   "display_name": "Python 3",
   "language": "python",
   "name": "python3"
  },
  "language_info": {
   "codemirror_mode": {
    "name": "ipython",
    "version": 3
   },
   "file_extension": ".py",
   "mimetype": "text/x-python",
   "name": "python",
   "nbconvert_exporter": "python",
   "pygments_lexer": "ipython3",
   "version": "3.13.1"
  }
 },
 "nbformat": 4,
 "nbformat_minor": 2
}
